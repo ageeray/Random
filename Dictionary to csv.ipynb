{
 "cells": [
  {
   "cell_type": "code",
   "execution_count": 1,
   "metadata": {
    "collapsed": true
   },
   "outputs": [],
   "source": [
    "import pandas as pd\n",
    "import numpy as np"
   ]
  },
  {
   "cell_type": "code",
   "execution_count": 2,
   "metadata": {
    "collapsed": true
   },
   "outputs": [],
   "source": [
    "data = {'3873492':('D458', '','','F47892','','','D32782'), '77777':('C3728', '','','N43789','','','Y37289')}"
   ]
  },
  {
   "cell_type": "code",
   "execution_count": 24,
   "metadata": {},
   "outputs": [
    {
     "name": "stdout",
     "output_type": "stream",
     "text": [
      "         Diag1 Toss1 Toss2   Diag2 Toss3 Toss4   Diag3\n",
      "ClaimID                                               \n",
      "3873492   D458              F47892              D32782\n",
      "77777    C3728              N43789              Y37289\n"
     ]
    }
   ],
   "source": [
    "df = pd.DataFrame.from_dict(data, orient = 'index').reset_index()\n",
    "df.columns = ['ClaimID', 'Diag1', 'Toss1', 'Toss2', 'Diag2', 'Toss3', 'Toss4', 'Diag3']\n",
    "idf = df.set_index(['ClaimID'])\n",
    "print(idf)"
   ]
  },
  {
   "cell_type": "code",
   "execution_count": 29,
   "metadata": {},
   "outputs": [],
   "source": [
    "idf.drop(['Toss1', 'Toss2', 'Toss3', 'Toss4'], axis = 1, inplace = True)"
   ]
  },
  {
   "cell_type": "code",
   "execution_count": 30,
   "metadata": {},
   "outputs": [
    {
     "data": {
      "text/html": [
       "<div>\n",
       "<style>\n",
       "    .dataframe thead tr:only-child th {\n",
       "        text-align: right;\n",
       "    }\n",
       "\n",
       "    .dataframe thead th {\n",
       "        text-align: left;\n",
       "    }\n",
       "\n",
       "    .dataframe tbody tr th {\n",
       "        vertical-align: top;\n",
       "    }\n",
       "</style>\n",
       "<table border=\"1\" class=\"dataframe\">\n",
       "  <thead>\n",
       "    <tr style=\"text-align: right;\">\n",
       "      <th></th>\n",
       "      <th>Diag1</th>\n",
       "      <th>Diag2</th>\n",
       "      <th>Diag3</th>\n",
       "    </tr>\n",
       "    <tr>\n",
       "      <th>ClaimID</th>\n",
       "      <th></th>\n",
       "      <th></th>\n",
       "      <th></th>\n",
       "    </tr>\n",
       "  </thead>\n",
       "  <tbody>\n",
       "    <tr>\n",
       "      <th>3873492</th>\n",
       "      <td>D458</td>\n",
       "      <td>F47892</td>\n",
       "      <td>D32782</td>\n",
       "    </tr>\n",
       "    <tr>\n",
       "      <th>77777</th>\n",
       "      <td>C3728</td>\n",
       "      <td>N43789</td>\n",
       "      <td>Y37289</td>\n",
       "    </tr>\n",
       "  </tbody>\n",
       "</table>\n",
       "</div>"
      ],
      "text/plain": [
       "         Diag1   Diag2   Diag3\n",
       "ClaimID                       \n",
       "3873492   D458  F47892  D32782\n",
       "77777    C3728  N43789  Y37289"
      ]
     },
     "execution_count": 30,
     "metadata": {},
     "output_type": "execute_result"
    }
   ],
   "source": [
    "idf"
   ]
  },
  {
   "cell_type": "code",
   "execution_count": 33,
   "metadata": {},
   "outputs": [],
   "source": [
    "idf.to_csv('Claims.csv', sep = ',')"
   ]
  },
  {
   "cell_type": "code",
   "execution_count": null,
   "metadata": {
    "collapsed": true
   },
   "outputs": [],
   "source": []
  }
 ],
 "metadata": {
  "kernelspec": {
   "display_name": "Python 3",
   "language": "python",
   "name": "python3"
  },
  "language_info": {
   "codemirror_mode": {
    "name": "ipython",
    "version": 3
   },
   "file_extension": ".py",
   "mimetype": "text/x-python",
   "name": "python",
   "nbconvert_exporter": "python",
   "pygments_lexer": "ipython3",
   "version": "3.6.1"
  }
 },
 "nbformat": 4,
 "nbformat_minor": 2
}
